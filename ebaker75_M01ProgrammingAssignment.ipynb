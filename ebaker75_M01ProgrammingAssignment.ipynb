{
 "cells": [
  {
   "cell_type": "markdown",
   "metadata": {},
   "source": [
    "Elizabeth Baker<br>\n",
    "23MAR2024<br>\n",
    "M01 Programming Assignment<br>\n",
    "SDEV 220 35N<br>"
   ]
  },
  {
   "cell_type": "markdown",
   "metadata": {},
   "source": [
    "3.1"
   ]
  },
  {
   "cell_type": "code",
   "execution_count": 1,
   "metadata": {},
   "outputs": [
    {
     "name": "stdout",
     "output_type": "stream",
     "text": [
      "3600.0\n"
     ]
    }
   ],
   "source": [
    "#variables defined as floats so other team members can use them in more complicated calculations if necessary\n",
    "SEC_PER_MIN = float(60) #constant represents seconds in a minute\n",
    "MIN_PER_HOUR = float(60) #constant represents minutes in an hour\n",
    "SEC_PER_HOUR = SEC_PER_MIN * MIN_PER_HOUR\n",
    "print(SEC_PER_HOUR)"
   ]
  },
  {
   "cell_type": "markdown",
   "metadata": {},
   "source": [
    "3.2"
   ]
  },
  {
   "cell_type": "code",
   "execution_count": 2,
   "metadata": {},
   "outputs": [
    {
     "name": "stdout",
     "output_type": "stream",
     "text": [
      "3600.0\n"
     ]
    }
   ],
   "source": [
    "#variable represents seconds in an hour\n",
    "seconds_per_hour = SEC_PER_HOUR\n",
    "print(seconds_per_hour)"
   ]
  },
  {
   "cell_type": "markdown",
   "metadata": {},
   "source": [
    "3.3"
   ]
  },
  {
   "cell_type": "code",
   "execution_count": 3,
   "metadata": {},
   "outputs": [
    {
     "name": "stdout",
     "output_type": "stream",
     "text": [
      "86400.0\n"
     ]
    }
   ],
   "source": [
    "#constant represents seconds per day\n",
    "SEC_PER_DAY = seconds_per_hour * 24\n",
    "print(SEC_PER_DAY)"
   ]
  },
  {
   "cell_type": "markdown",
   "metadata": {},
   "source": [
    "3.4"
   ]
  },
  {
   "cell_type": "code",
   "execution_count": 4,
   "metadata": {},
   "outputs": [
    {
     "name": "stdout",
     "output_type": "stream",
     "text": [
      "86400.0\n"
     ]
    }
   ],
   "source": [
    "#calculate seconds per day as instructed\n",
    "seconds_per_day = seconds_per_hour * 24\n",
    "print(seconds_per_day)"
   ]
  },
  {
   "cell_type": "markdown",
   "metadata": {},
   "source": [
    "3.5"
   ]
  },
  {
   "cell_type": "code",
   "execution_count": 5,
   "metadata": {},
   "outputs": [
    {
     "name": "stdout",
     "output_type": "stream",
     "text": [
      "24.0\n"
     ]
    }
   ],
   "source": [
    "#constant name comes from the fact that hours per day is what this calculates\n",
    "HOUR_PER_DAY = seconds_per_day / seconds_per_hour\n",
    "print(HOUR_PER_DAY)"
   ]
  },
  {
   "cell_type": "markdown",
   "metadata": {},
   "source": [
    "3.6"
   ]
  },
  {
   "cell_type": "code",
   "execution_count": 6,
   "metadata": {},
   "outputs": [
    {
     "name": "stdout",
     "output_type": "stream",
     "text": [
      "24.0\n"
     ]
    }
   ],
   "source": [
    "\"\"\"constant name notes this value is approximate because leaving out the fractional part of this number may be inappropriate \n",
    "in some contexts and team members should be notified\"\"\"\n",
    "APPROX_HOUR_PER_DAY = seconds_per_day // seconds_per_hour\n",
    "print(APPROX_HOUR_PER_DAY)"
   ]
  },
  {
   "cell_type": "markdown",
   "metadata": {},
   "source": [
    "3.6 question<br>\n",
    "<p>The answers from 3.5 and 3.6 technically agree with each other, but it's important to note that one is an integer and one is a float, which could have implications for other calculations down the line. For example, if team members are performing calculations involving satellites or astronomy, this number will be larger than 24 in order to precisely accomodate a solar day.</p>"
   ]
  }
 ],
 "metadata": {
  "kernelspec": {
   "display_name": "Python 3",
   "language": "python",
   "name": "python3"
  },
  "language_info": {
   "codemirror_mode": {
    "name": "ipython",
    "version": 3
   },
   "file_extension": ".py",
   "mimetype": "text/x-python",
   "name": "python",
   "nbconvert_exporter": "python",
   "pygments_lexer": "ipython3",
   "version": "3.12.2"
  }
 },
 "nbformat": 4,
 "nbformat_minor": 2
}
